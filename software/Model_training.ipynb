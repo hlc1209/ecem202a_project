{
  "nbformat": 4,
  "nbformat_minor": 0,
  "metadata": {
    "colab": {
      "name": "Model_training.ipynb",
      "provenance": [],
      "collapsed_sections": []
    },
    "kernelspec": {
      "display_name": "Python 3",
      "name": "python3"
    },
    "accelerator": "GPU"
  },
  "cells": [
    {
      "cell_type": "markdown",
      "metadata": {
        "id": "dDqqUIZjZjac"
      },
      "source": [
        "# Init"
      ]
    },
    {
      "cell_type": "code",
      "metadata": {
        "id": "WsN6s5L1ieNl",
        "colab": {
          "base_uri": "https://localhost:8080/"
        },
        "outputId": "1ff087e9-1177-4980-f23e-733a603d5f60"
      },
      "source": [
        "import tensorflow as tf\n",
        "import tensorflow_datasets as tfds\n",
        "from tensorflow import keras\n",
        "import numpy as np\n",
        "import tempfile\n",
        "import os\n",
        "assert float(tf.__version__[:3]) >= 2.3\n",
        "import matplotlib.pyplot as plt\n",
        "import scipy.ndimage as ndimage\n",
        "from tensorflow.keras.callbacks import Callback\n",
        "!pip install tensorflow-addons\n",
        "import tensorflow_addons as tfa\n",
        "\n",
        "from tensorflow.python.ops.numpy_ops import np_config\n",
        "np_config.enable_numpy_behavior()\n",
        "\n",
        "def normalize_img(currentImage, currentLabel):\n",
        "    return tf.cast(currentImage, tf.float32)/ 255.0, currentLabel\n",
        "\n",
        "def resize_img(currentImage, currentLabel):\n",
        "    return tf.image.resize(currentImage,(32,32)), currentLabel\n",
        "\n",
        "def flatten_img(currentImage, currentLabel):\n",
        "    return tf.reshape(currentImage,[-1]), currentLabel\n",
        "\n",
        "batchsize = 128"
      ],
      "execution_count": null,
      "outputs": [
        {
          "output_type": "stream",
          "name": "stdout",
          "text": [
            "Collecting tensorflow-addons\n",
            "  Downloading tensorflow_addons-0.15.0-cp37-cp37m-manylinux_2_12_x86_64.manylinux2010_x86_64.whl (1.1 MB)\n",
            "\u001b[K     |████████████████████████████████| 1.1 MB 5.3 MB/s \n",
            "\u001b[?25hRequirement already satisfied: typeguard>=2.7 in /usr/local/lib/python3.7/dist-packages (from tensorflow-addons) (2.7.1)\n",
            "Installing collected packages: tensorflow-addons\n",
            "Successfully installed tensorflow-addons-0.15.0\n"
          ]
        }
      ]
    },
    {
      "cell_type": "code",
      "source": [
        "from tensorflow.python.client import device_lib\n",
        "\n",
        "device_lib.list_local_devices()"
      ],
      "metadata": {
        "colab": {
          "base_uri": "https://localhost:8080/"
        },
        "id": "dFmYWhkfOjd5",
        "outputId": "0f4bfa55-51b2-448c-ab64-e0899c22bb92"
      },
      "execution_count": null,
      "outputs": [
        {
          "output_type": "execute_result",
          "data": {
            "text/plain": [
              "[name: \"/device:CPU:0\"\n",
              " device_type: \"CPU\"\n",
              " memory_limit: 268435456\n",
              " locality {\n",
              " }\n",
              " incarnation: 16465223408632390225\n",
              " xla_global_id: -1, name: \"/device:GPU:0\"\n",
              " device_type: \"GPU\"\n",
              " memory_limit: 11320098816\n",
              " locality {\n",
              "   bus_id: 1\n",
              "   links {\n",
              "   }\n",
              " }\n",
              " incarnation: 6588564460970389137\n",
              " physical_device_desc: \"device: 0, name: Tesla K80, pci bus id: 0000:00:04.0, compute capability: 3.7\"\n",
              " xla_global_id: 416903419]"
            ]
          },
          "metadata": {},
          "execution_count": 2
        }
      ]
    },
    {
      "cell_type": "markdown",
      "source": [
        "# prepare dataset"
      ],
      "metadata": {
        "id": "ldiSWXSYDVPz"
      }
    },
    {
      "cell_type": "markdown",
      "source": [
        "##mnist"
      ],
      "metadata": {
        "id": "NE-I81VpinPd"
      }
    },
    {
      "cell_type": "code",
      "metadata": {
        "id": "4GfCFP_d9SKe",
        "colab": {
          "base_uri": "https://localhost:8080/"
        },
        "outputId": "70a0932c-68db-4cd2-c3a6-97f4f2b61fb8"
      },
      "source": [
        "# Load MNIST dataset\n",
        "mnist = tf.keras.datasets.mnist\n",
        "(train_images_mnist, train_labels_mnist), (test_images_mnist, test_labels_mnist) = mnist.load_data()\n",
        "\n",
        "train_images_mnist = train_images_mnist.reshape(train_images_mnist.shape+(1,))\n",
        "train_images_mnist = tf.image.resize(train_images_mnist,(32,32))\n",
        "train_images_mnist = tf.reshape(train_images_mnist,[train_images_mnist.shape[0],-1])\n",
        "test_images_mnist = test_images_mnist.reshape(test_images_mnist.shape+(1,))\n",
        "test_images_mnist = tf.image.resize(test_images_mnist,(32,32))\n",
        "test_images_mnist = tf.reshape(test_images_mnist,[test_images_mnist.shape[0],-1])\n",
        "print(test_images_mnist.shape, train_images_mnist.shape)\n",
        "\n",
        "\n",
        "# Normalize the input image so that each pixel value is between 0 to 1.\n",
        "train_images_mnist = train_images_mnist.astype(np.float32) / 255.0\n",
        "test_images_mnist = test_images_mnist.astype(np.float32) / 255.0"
      ],
      "execution_count": 233,
      "outputs": [
        {
          "output_type": "stream",
          "name": "stdout",
          "text": [
            "(10000, 1024) (60000, 1024)\n"
          ]
        }
      ]
    },
    {
      "cell_type": "markdown",
      "source": [
        "##emnist"
      ],
      "metadata": {
        "id": "xzW5eaK_iok7"
      }
    },
    {
      "cell_type": "code",
      "source": [
        "# (ds_train, ds_test), ds_info = tfds.load('emnist/byclass', split=['train[:1%]', 'test[:1%]'], as_supervised=True, shuffle_files=True, with_info=True,)\n",
        "(ds_train, ds_test), ds_info = tfds.load('emnist/byclass', split=['train', 'test'], as_supervised=True, shuffle_files=True, with_info=True,)\n",
        "\n",
        "def dataAug_emnist(currentImage, currentLabel):\n",
        "    newSize = tf.random.uniform((1,), 18, 34)[0]\n",
        "    rota = tf.random.uniform((1,), -15, 15)[0] * np.pi / 180\n",
        "    currentImage = tfa.image.rotate(currentImage, rota)\n",
        "    currentImage = tf.image.resize(currentImage, [newSize,newSize], method='bicubic')\n",
        "    currentImage = tf.image.resize_with_crop_or_pad(currentImage, 36, 36)\n",
        "    currentImage = tf.image.random_crop(currentImage, (32, 32, 1))\n",
        "    currentImage = tf.where(currentImage>0.3, 1.0*tf.ones_like(currentImage), tf.zeros_like(currentImage))\n",
        "    return currentImage, currentLabel\n",
        "\n",
        "def transpose_emnist(currentImage, currentLabel):\n",
        "    return currentImage.transpose([1,0,2]), currentLabel\n",
        "\n",
        "ds_train = ds_train.map(transpose_emnist, num_parallel_calls=tf.data.AUTOTUNE)\n",
        "ds_train = ds_train.map(normalize_img, num_parallel_calls=tf.data.AUTOTUNE)\n",
        "ds_train = ds_train.cache()\n",
        "ds_train = ds_train.shuffle(ds_info.splits['train'].num_examples)\n",
        "ds_train = ds_train.map(dataAug_emnist, num_parallel_calls=tf.data.AUTOTUNE)\n",
        "ds_train = ds_train.map(flatten_img, num_parallel_calls=tf.data.AUTOTUNE)\n",
        "ds_train = ds_train.batch(batchsize, drop_remainder=True).prefetch(tf.data.AUTOTUNE) \n",
        "\n",
        "\n",
        "ds_test = ds_test.map(transpose_emnist, num_parallel_calls=tf.data.AUTOTUNE)\n",
        "ds_test = ds_test.map(normalize_img, num_parallel_calls=tf.data.AUTOTUNE)\n",
        "ds_test = ds_test.map(resize_img, num_parallel_calls=tf.data.AUTOTUNE)\n",
        "ds_test = ds_test.map(flatten_img, num_parallel_calls=tf.data.AUTOTUNE)\n",
        "ds_test = ds_test.batch(batchsize, drop_remainder=True).cache().prefetch(tf.data.AUTOTUNE)"
      ],
      "metadata": {
        "id": "rWp0WkdfqLgq"
      },
      "execution_count": 158,
      "outputs": []
    },
    {
      "cell_type": "code",
      "source": [
        "# print(next(iter(ds_train))[0])\n",
        "# plt.imshow(next(ds_train.as_numpy_iterator())[0][12].reshape((32,32)))\n",
        "\n",
        "plt.figure(figsize=(10, 10))\n",
        "plt.title(\"Example of Training Inputs of Character e\")\n",
        "for i in range(9):\n",
        "  augmented_image = next(ds_train.as_numpy_iterator())[0][117].reshape((32,32))\n",
        "  ax = plt.subplot(3, 3, i + 1)\n",
        "  plt.imshow(augmented_image)\n",
        "  plt.axis(\"off\")"
      ],
      "metadata": {
        "colab": {
          "base_uri": "https://localhost:8080/",
          "height": 575
        },
        "id": "M1i8tRG-ayrJ",
        "outputId": "df42181a-8920-40a6-bae7-a0a031cf2b89"
      },
      "execution_count": 157,
      "outputs": [
        {
          "output_type": "display_data",
          "data": {
            "image/png": "[encoded data removed]",
            "text/plain": [
              "<Figure size 720x720 with 9 Axes>"
            ]
          },
          "metadata": {
            "needs_background": "light"
          }
        }
      ]
    },
    {
      "cell_type": "markdown",
      "source": [
        "# training"
      ],
      "metadata": {
        "id": "eIybJErVW_pN"
      }
    },
    {
      "cell_type": "code",
      "metadata": {
        "id": "eMsw_6HujaqM",
        "colab": {
          "base_uri": "https://localhost:8080/"
        },
        "outputId": "e8e609aa-0a1c-48b0-d779-f013144a6b3b"
      },
      "source": [
        "# Define the model architecture\n",
        "model = tf.keras.Sequential([\n",
        "  tf.keras.Input((1024,), batch_size=batchsize),\n",
        "  tf.keras.layers.Reshape((32,32,1)),\n",
        "  tf.keras.layers.Conv2D(filters=4 , kernel_size=(3, 3), activation='relu', padding='same'),\n",
        "  tf.keras.layers.Conv2D(filters=8, kernel_size=(3, 3), activation='relu'),\n",
        "  tf.keras.layers.MaxPooling2D(pool_size=(2, 2)),\n",
        "\n",
        "  tf.keras.layers.Conv2D(filters=8, kernel_size=(3, 3), activation='relu', padding='same'),\n",
        "  tf.keras.layers.Conv2D(filters=16, kernel_size=(3, 3), activation='relu'),\n",
        "  tf.keras.layers.MaxPooling2D(pool_size=(2, 2)),\n",
        "  \n",
        "  tf.keras.layers.Conv2D(filters=16, kernel_size=(3, 3), activation='relu', padding='same'),\n",
        "  tf.keras.layers.Conv2D(filters=32, kernel_size=(3, 3), activation='relu'),\n",
        "\n",
        "  tf.keras.layers.GlobalAveragePooling2D(),\n",
        "  tf.keras.layers.Dense(64),\n",
        "])\n",
        "\n",
        "# Train the digit classification model\n",
        "model.compile(optimizer='adam',\n",
        "              loss=tf.keras.losses.SparseCategoricalCrossentropy(\n",
        "                  from_logits=True),\n",
        "              metrics=['accuracy'])\n",
        "model.summary()"
      ],
      "execution_count": null,
      "outputs": [
        {
          "output_type": "stream",
          "name": "stdout",
          "text": [
            "Model: \"sequential_1\"\n",
            "_________________________________________________________________\n",
            " Layer (type)                Output Shape              Param #   \n",
            "=================================================================\n",
            " reshape_1 (Reshape)         (128, 32, 32, 1)          0         \n",
            "                                                                 \n",
            " conv2d_6 (Conv2D)           (128, 32, 32, 4)          40        \n",
            "                                                                 \n",
            " conv2d_7 (Conv2D)           (128, 30, 30, 8)          296       \n",
            "                                                                 \n",
            " max_pooling2d_2 (MaxPooling  (128, 15, 15, 8)         0         \n",
            " 2D)                                                             \n",
            "                                                                 \n",
            " conv2d_8 (Conv2D)           (128, 15, 15, 8)          584       \n",
            "                                                                 \n",
            " conv2d_9 (Conv2D)           (128, 13, 13, 16)         1168      \n",
            "                                                                 \n",
            " max_pooling2d_3 (MaxPooling  (128, 6, 6, 16)          0         \n",
            " 2D)                                                             \n",
            "                                                                 \n",
            " conv2d_10 (Conv2D)          (128, 6, 6, 16)           2320      \n",
            "                                                                 \n",
            " conv2d_11 (Conv2D)          (128, 4, 4, 32)           4640      \n",
            "                                                                 \n",
            " global_average_pooling2d_1   (128, 32)                0         \n",
            " (GlobalAveragePooling2D)                                        \n",
            "                                                                 \n",
            " dense_1 (Dense)             (128, 64)                 2112      \n",
            "                                                                 \n",
            "=================================================================\n",
            "Total params: 11,160\n",
            "Trainable params: 11,160\n",
            "Non-trainable params: 0\n",
            "_________________________________________________________________\n"
          ]
        }
      ]
    },
    {
      "cell_type": "code",
      "metadata": {
        "id": "Uk6ci8t08rtP",
        "colab": {
          "base_uri": "https://localhost:8080/"
        },
        "outputId": "f122ea69-7c0a-4f51-f46e-4a337501f0c4"
      },
      "source": [
        "class EarlyStoppingAtMinLoss(keras.callbacks.Callback):\n",
        "\n",
        "    def __init__(self, patience=0):\n",
        "        super(EarlyStoppingAtMinLoss, self).__init__()\n",
        "        self.patience = patience\n",
        "        self.best_weights = None\n",
        "\n",
        "    def on_train_begin(self, logs=None):\n",
        "        # The number of epoch it has waited when loss is no longer minimum.\n",
        "        self.wait = 0\n",
        "        self.stopped_epoch = 0\n",
        "        self.best = np.Inf\n",
        "\n",
        "    def on_epoch_end(self, epoch, logs=None):\n",
        "        current = logs.get('val_loss')\n",
        "        if np.less(current, self.best):\n",
        "            self.best = current\n",
        "            self.wait = 0\n",
        "            self.best_weights = self.model.get_weights()\n",
        "        else:\n",
        "            self.wait += 1\n",
        "            if self.wait >= self.patience:\n",
        "                self.stopped_epoch = epoch\n",
        "                self.model.stop_training = True\n",
        "                print(\"Restoring model weights from the end of the best epoch.\")\n",
        "                self.model.set_weights(self.best_weights)\n",
        "\n",
        "    def on_train_end(self, logs=None):\n",
        "        if self.stopped_epoch > 0:\n",
        "            print(\"Epoch %05d: early stopping\" % (self.stopped_epoch + 1))\n",
        "\n",
        "model.fit(\n",
        "  ds_train,\n",
        "  epochs=20,\n",
        "  batch_size=batchsize,\n",
        "  validation_data=ds_test,\n",
        "  callbacks=[EarlyStoppingAtMinLoss(2)],\n",
        ")"
      ],
      "execution_count": null,
      "outputs": [
        {
          "output_type": "stream",
          "name": "stdout",
          "text": [
            "Epoch 1/20\n",
            "5452/5452 [==============================] - 381s 49ms/step - loss: 1.0902 - accuracy: 0.6743 - val_loss: 0.5889 - val_accuracy: 0.8000\n",
            "Epoch 2/20\n",
            "5452/5452 [==============================] - 248s 45ms/step - loss: 0.6467 - accuracy: 0.7837 - val_loss: 0.5070 - val_accuracy: 0.8240\n",
            "Epoch 3/20\n",
            "5452/5452 [==============================] - 247s 45ms/step - loss: 0.5851 - accuracy: 0.8008 - val_loss: 0.4997 - val_accuracy: 0.8272\n",
            "Epoch 4/20\n",
            "5452/5452 [==============================] - 249s 46ms/step - loss: 0.5578 - accuracy: 0.8081 - val_loss: 0.4847 - val_accuracy: 0.8293\n",
            "Epoch 5/20\n",
            "5452/5452 [==============================] - 250s 46ms/step - loss: 0.5393 - accuracy: 0.8135 - val_loss: 0.4878 - val_accuracy: 0.8268\n",
            "Epoch 6/20\n",
            "5452/5452 [==============================] - 251s 46ms/step - loss: 0.5278 - accuracy: 0.8159 - val_loss: 0.4569 - val_accuracy: 0.8364\n",
            "Epoch 7/20\n",
            "5452/5452 [==============================] - 248s 45ms/step - loss: 0.5197 - accuracy: 0.8185 - val_loss: 0.4639 - val_accuracy: 0.8327\n",
            "Epoch 8/20\n",
            "5452/5452 [==============================] - ETA: 0s - loss: 0.5141 - accuracy: 0.8202Restoring model weights from the end of the best epoch.\n",
            "5452/5452 [==============================] - 245s 45ms/step - loss: 0.5141 - accuracy: 0.8202 - val_loss: 0.4584 - val_accuracy: 0.8333\n",
            "Epoch 00008: early stopping\n"
          ]
        },
        {
          "output_type": "execute_result",
          "data": {
            "text/plain": [
              "<keras.callbacks.History at 0x7fd430912ad0>"
            ]
          },
          "metadata": {},
          "execution_count": 77
        }
      ]
    },
    {
      "cell_type": "markdown",
      "source": [
        "# fine-tune pre-trained model with quantization aware training"
      ],
      "metadata": {
        "id": "MuGVjNC-Ze72"
      }
    },
    {
      "cell_type": "code",
      "source": [
        "! pip install -q tensorflow-model-optimization\n",
        "import tensorflow_model_optimization as tfmot\n",
        "\n",
        "quantize_model = tfmot.quantization.keras.quantize_model\n",
        "\n",
        "# q_aware stands for for quantization aware.\n",
        "q_aware_model = quantize_model(model)\n",
        "\n",
        "# `quantize_model` requires a recompile.\n",
        "q_aware_model.compile(optimizer='adam',\n",
        "              loss=tf.keras.losses.SparseCategoricalCrossentropy(from_logits=True),\n",
        "              metrics=['accuracy'])\n",
        "\n",
        "q_aware_model.summary()"
      ],
      "metadata": {
        "id": "RusbgEg1Zk-o"
      },
      "execution_count": null,
      "outputs": []
    },
    {
      "cell_type": "code",
      "source": [
        "q_aware_model.fit(ds_train, batch_size=batchsize,\n",
        "         epochs=1, validation_data=ds_test)"
      ],
      "metadata": {
        "id": "BN-BOIs_aI1r"
      },
      "execution_count": null,
      "outputs": []
    },
    {
      "cell_type": "markdown",
      "metadata": {
        "id": "FQgTqbvPvxGJ"
      },
      "source": [
        "# Convert model"
      ]
    },
    {
      "cell_type": "markdown",
      "source": [
        "## model_final with batchsize=1"
      ],
      "metadata": {
        "id": "h9vkdLGJcfFK"
      }
    },
    {
      "cell_type": "code",
      "source": [
        "model_final = tf.keras.Sequential([\n",
        "  tf.keras.Input((1024,), batch_size=1),\n",
        "  tf.keras.layers.Reshape((32,32,1), batch_size=1),\n",
        "  tf.keras.layers.Conv2D(filters=4 , kernel_size=(3, 3), activation='relu', padding='same'),\n",
        "  tf.keras.layers.Conv2D(filters=8, kernel_size=(3, 3), activation='relu'),\n",
        "  tf.keras.layers.MaxPooling2D(pool_size=(2, 2)),\n",
        "\n",
        "  tf.keras.layers.Conv2D(filters=8, kernel_size=(3, 3), activation='relu', padding='same'),\n",
        "  tf.keras.layers.Conv2D(filters=16, kernel_size=(3, 3), activation='relu'),\n",
        "  tf.keras.layers.MaxPooling2D(pool_size=(2, 2)),\n",
        "  \n",
        "  tf.keras.layers.Conv2D(filters=16, kernel_size=(3, 3), activation='relu', padding='same'),\n",
        "  tf.keras.layers.Conv2D(filters=32, kernel_size=(3, 3), activation='relu'),\n",
        "\n",
        "  tf.keras.layers.GlobalAveragePooling2D(),\n",
        "  tf.keras.layers.Dense(64),\n",
        "])\n",
        "\n",
        "# Train the digit classification model\n",
        "model_final.compile(optimizer='adam',\n",
        "              loss=tf.keras.losses.SparseCategoricalCrossentropy(\n",
        "                  from_logits=True),\n",
        "              metrics=['accuracy'])"
      ],
      "metadata": {
        "id": "I17QfL6kceCw"
      },
      "execution_count": null,
      "outputs": []
    },
    {
      "cell_type": "code",
      "source": [
        "model_final.set_weights(model.get_weights()) "
      ],
      "metadata": {
        "id": "9lENwEJmcsp1"
      },
      "execution_count": null,
      "outputs": []
    },
    {
      "cell_type": "markdown",
      "source": [
        "## from model"
      ],
      "metadata": {
        "id": "OrApXQMcdMKq"
      }
    },
    {
      "cell_type": "code",
      "metadata": {
        "id": "yPf7lDhJVeJQ",
        "colab": {
          "base_uri": "https://localhost:8080/"
        },
        "outputId": "4596979c-bf13-4f19-861b-f06d8d0e0c00"
      },
      "source": [
        "def representative_data_gen():\n",
        "  for input_value in tf.data.Dataset.from_tensor_slices(train_images_mnist[:100000]).batch(1).take(1000):\n",
        "    yield [input_value]\n",
        "\n",
        "converter = tf.lite.TFLiteConverter.from_keras_model(model_final)\n",
        "converter.optimizations = [tf.lite.Optimize.DEFAULT]\n",
        "converter.representative_dataset = representative_data_gen\n",
        "converter.target_spec.supported_ops = [tf.lite.OpsSet.TFLITE_BUILTINS_INT8]\n",
        "converter.inference_input_type = tf.int8\n",
        "converter.inference_output_type = tf.int8\n",
        "\n",
        "tflite_model_quant = converter.convert()\n",
        "\n",
        "interpreter = tf.lite.Interpreter(model_content=tflite_model_quant)\n",
        "input_type = interpreter.get_input_details()[0]['dtype']\n",
        "print('input: ', input_type)\n",
        "output_type = interpreter.get_output_details()[0]['dtype']\n",
        "print('output: ', output_type)"
      ],
      "execution_count": null,
      "outputs": [
        {
          "output_type": "stream",
          "name": "stdout",
          "text": [
            "INFO:tensorflow:Assets written to: /tmp/tmpzkkot5rv/assets\n"
          ]
        },
        {
          "output_type": "stream",
          "name": "stderr",
          "text": [
            "INFO:tensorflow:Assets written to: /tmp/tmpzkkot5rv/assets\n",
            "WARNING:absl:Buffer deduplication procedure will be skipped when flatbuffer library is not properly loaded\n"
          ]
        },
        {
          "output_type": "stream",
          "name": "stdout",
          "text": [
            "input:  <class 'numpy.int8'>\n",
            "output:  <class 'numpy.int8'>\n"
          ]
        }
      ]
    },
    {
      "cell_type": "markdown",
      "source": [
        "## from  quantization aware training"
      ],
      "metadata": {
        "id": "-BK1kiicdUtC"
      }
    },
    {
      "cell_type": "code",
      "metadata": {
        "id": "PBKu-__6dSBD"
      },
      "source": [
        "def representative_data_gen():\n",
        "  for input_value in tf.data.Dataset.from_tensor_slices(train_images_mnist[:100000]).batch(1).take(1000):\n",
        "    yield [input_value]\n",
        "\n",
        "converter = tf.lite.TFLiteConverter.from_keras_model(q_aware_model)\n",
        "converter.optimizations = [tf.lite.Optimize.DEFAULT]\n",
        "converter.representative_dataset = representative_data_gen\n",
        "converter.target_spec.supported_ops = [tf.lite.OpsSet.TFLITE_BUILTINS_INT8]\n",
        "converter.inference_input_type = tf.int8\n",
        "converter.inference_output_type = tf.int8\n",
        "\n",
        "tflite_model_quant_aware = converter.convert()\n",
        "\n",
        "interpreter = tf.lite.Interpreter(model_content=tflite_model_quant_aware)\n",
        "input_type = interpreter.get_input_details()[0]['dtype']\n",
        "print('input: ', input_type)\n",
        "output_type = interpreter.get_output_details()[0]['dtype']\n",
        "print('output: ', output_type)"
      ],
      "execution_count": null,
      "outputs": []
    },
    {
      "cell_type": "markdown",
      "metadata": {
        "id": "sse224YJ4KMm"
      },
      "source": [
        "# Save the models as files"
      ]
    },
    {
      "cell_type": "code",
      "metadata": {
        "id": "M5g5PHduA-5y"
      },
      "source": [
        "!apt-get update\n",
        "!apt-get install xxd"
      ],
      "execution_count": null,
      "outputs": []
    },
    {
      "cell_type": "markdown",
      "source": [
        "## from model"
      ],
      "metadata": {
        "id": "n-pDE4VCdq__"
      }
    },
    {
      "cell_type": "code",
      "metadata": {
        "id": "9J33uwpNtAku",
        "colab": {
          "base_uri": "https://localhost:8080/"
        },
        "outputId": "f176bd33-4624-4377-8d75-9610371027ac"
      },
      "source": [
        "tflite_model_quant_file = \"quant_model.tflite\"\n",
        "open(tflite_model_quant_file, \"wb\").write(tflite_model_quant)\n",
        "  \n",
        "import os\n",
        "basic_model_size = os.path.getsize(tflite_model_quant_file)\n",
        "\n",
        "print(\"Model is %d bytes\" % basic_model_size)\n",
        "!echo \"const unsigned char model[] = {\" > /content/model.h\n",
        "!cat quant_model.tflite | xxd -i      >> /content/model.h\n",
        "!echo \"};\"                              >> /content/model.h\n",
        "\n",
        "import os\n",
        "model_h_size = os.path.getsize(\"model.h\")\n",
        "print(f\"Header file, model.h, is {model_h_size:,} bytes.\")"
      ],
      "execution_count": null,
      "outputs": [
        {
          "output_type": "stream",
          "name": "stdout",
          "text": [
            "Model is 18656 bytes\n",
            "Header file, model.h, is 115,080 bytes.\n"
          ]
        }
      ]
    },
    {
      "cell_type": "markdown",
      "source": [
        "## from quantization aware training"
      ],
      "metadata": {
        "id": "rANHqFZ5duGm"
      }
    },
    {
      "cell_type": "code",
      "metadata": {
        "id": "klhTCNdudtGS"
      },
      "source": [
        "tflite_model_quant_aware_file = \"quant_aware_model.tflite\"\n",
        "open(tflite_model_quant_aware_file, \"wb\").write(tflite_model_quant_aware)\n",
        "  \n",
        "import os\n",
        "basic_model_size = os.path.getsize(tflite_model_quant_aware_file)\n",
        "\n",
        "print(\"Model is %d bytes\" % basic_model_size)\n",
        "!echo \"const unsigned char model[] = {\" > /content/model_aware.h\n",
        "!cat quant_aware_model.tflite | xxd -i      >> /content/model_aware.h\n",
        "!echo \"};\"                              >> /content/model_aware.h\n",
        "\n",
        "import os\n",
        "model_h_size = os.path.getsize(\"model_aware.h\")\n",
        "print(f\"Header file, model_aware.h, is {model_h_size:,} bytes.\")"
      ],
      "execution_count": null,
      "outputs": []
    },
    {
      "cell_type": "markdown",
      "metadata": {
        "id": "9t9yaTeF9fyM"
      },
      "source": [
        "# Test the TensorFlow Lite models on MNIST"
      ]
    },
    {
      "cell_type": "code",
      "metadata": {
        "id": "X092SbeWfd1A"
      },
      "source": [
        "# Helper function to run inference on a TFLite model\n",
        "def run_tflite_model_mnist(tflite_file, test_image_indices):\n",
        "\n",
        "  # Initialize the interpreter\n",
        "  interpreter = tf.lite.Interpreter(model_path=str(tflite_file))\n",
        "  interpreter.allocate_tensors()\n",
        "\n",
        "  input_details = interpreter.get_input_details()[0]\n",
        "  output_details = interpreter.get_output_details()[0]\n",
        "\n",
        "  predictions = np.zeros((len(test_image_indices),), dtype=int)\n",
        "  for i, test_image_index in enumerate(test_image_indices):\n",
        "    test_image = test_images_mnist[test_image_index]\n",
        "    test_label = test_labels_mnist[test_image_index]\n",
        "    test_image = (test_image * 255 - 128).astype(np.int8).reshape((1,1024))\n",
        "    \n",
        "\n",
        "    # Check if the input type is quantized, then rescale input data to uint8\n",
        "    if input_details['dtype'] == np.uint8:\n",
        "      input_scale, input_zero_point = input_details[\"quantization\"]\n",
        "      test_image = test_image / input_scale + input_zero_point\n",
        "    \n",
        "\n",
        "    interpreter.set_tensor(input_details[\"index\"], test_image)\n",
        "    interpreter.invoke()\n",
        "    output = interpreter.get_tensor(output_details[\"index\"])[0]\n",
        "\n",
        "    predictions[i] = output.argmax()\n",
        "\n",
        "  return predictions\n",
        "\n",
        "import matplotlib.pylab as plt\n",
        "\n",
        "## Helper function to test the models on one image\n",
        "def test_model_mnist(tflite_file, test_image_index, model_type):\n",
        "\n",
        "  predictions = run_tflite_model_mnist(tflite_file, [test_image_index])\n",
        "\n",
        "  plt.imshow(test_images_mnist[test_image_index].reshape((32,32)))\n",
        "  template = model_type + \" Model \\n True:{true}, Predicted:{predict}\"\n",
        "  _ = plt.title(template.format(true= str(test_labels_mnist[test_image_index]), predict=str(predictions[0])))\n",
        "  plt.grid(False)\n",
        "\n",
        "from sklearn.metrics import confusion_matrix\n",
        "\n",
        "# Helper function to evaluate a TFLite model on all images\n",
        "def evaluate_model_mnist(tflite_file, model_type, test_length):\n",
        "  global test_images_mnist\n",
        "  global test_labels_mnist\n",
        "\n",
        "  test_image_indices = range(test_length)\n",
        "  predictions = run_tflite_model_mnist(tflite_file, test_image_indices)\n",
        "\n",
        "  accuracy = (np.sum(test_labels_mnist[:test_length]== predictions) * 100) / test_length\n",
        "\n",
        "  print('%s model accuracy is %.4f%%' % (\n",
        "      model_type, accuracy))\n",
        "  \n",
        "  return confusion_matrix(test_labels_mnist[:test_length], predictions)"
      ],
      "execution_count": 202,
      "outputs": []
    },
    {
      "cell_type": "code",
      "metadata": {
        "id": "bjSH0szXSW7w"
      },
      "source": [
        "# Change this to test a different image\n",
        "test_image_index = 1"
      ],
      "execution_count": 190,
      "outputs": []
    },
    {
      "cell_type": "code",
      "metadata": {
        "id": "rc1i9umMcp0t",
        "colab": {
          "base_uri": "https://localhost:8080/",
          "height": 296
        },
        "outputId": "5ff5e16c-e0fa-4fc0-ae63-fa645db70eed"
      },
      "source": [
        "test_model_mnist(tflite_model_quant_file, test_image_index, model_type=\"Quantized\")"
      ],
      "execution_count": 192,
      "outputs": [
        {
          "output_type": "display_data",
          "data": {
            "image/png": "[encoded data removed]",
            "text/plain": [
              "<Figure size 432x288 with 1 Axes>"
            ]
          },
          "metadata": {
            "needs_background": "light"
          }
        }
      ]
    },
    {
      "cell_type": "code",
      "source": [
        "test_model_mnist(tflite_model_quant_aware_file, test_image_index, model_type=\"Quantized\")"
      ],
      "metadata": {
        "id": "Sq2XDfPUeBv4"
      },
      "execution_count": null,
      "outputs": []
    },
    {
      "cell_type": "markdown",
      "metadata": {
        "id": "Km3cY9ry8ZlG"
      },
      "source": [
        "Evaluate the quantized model:"
      ]
    },
    {
      "cell_type": "code",
      "metadata": {
        "id": "-9cnwiPp6EGm",
        "colab": {
          "base_uri": "https://localhost:8080/",
          "height": 542
        },
        "outputId": "bc88e039-cce4-496b-825b-1e95c36959be"
      },
      "source": [
        "conf_m  = evaluate_model_mnist(tflite_model_quant_file, model_type=\"Quantized\", test_length=10000)\n",
        "conf_m = np.pad(conf_m, (0, 62-conf_m.shape[0]))\n",
        "conf_m = conf_m[:10]\n",
        "scale_m = np.sum(conf_m, axis=1)[:,np.newaxis]\n",
        "conf_m = conf_m / scale_m\n",
        "print(conf_m.shape)\n",
        "\n",
        "labels = [\"0\",\"1\",\"2\",\"3\",\"4\",\"5\",\"6\",\"7\",\"8\",\"9\",\"a\",\"b\",\"c\",\"d\",\"e\",\"f\",\"g\",\"h\",\"i\",\"j\",\"k\",\"l\",\"m\",\"n\",\"o\",\"p\",\"q\",\"r\",\"s\",\"t\",\"u\",\"v\",\"w\",\"x\",\"y\",\"z\",\"A\",\"B\",\"C\",\"D\",\"E\",\"F\",\"G\",\"H\",\"I\",\"J\",\"K\",\"L\",\"M\",\"N\",\"O\",\"P\",\"Q\",\"R\",\"S\",\"T\",\"U\",\"V\",\"W\",\"X\",\"Y\",\"Z\"]\n",
        "\n",
        "plt.figure(figsize=(20,20))\n",
        "plt.imshow(conf_m)\n",
        "plt.ylabel(\"True Label\")\n",
        "plt.xlabel(\"Predicted Label\")\n",
        "plt.xticks(list(range(62)),labels)\n",
        "plt.yticks(list(range(10)),labels)"
      ],
      "execution_count": 247,
      "outputs": [
        {
          "output_type": "stream",
          "name": "stdout",
          "text": [
            "Quantized model accuracy is 95.3800%\n",
            "(10, 62)\n"
          ]
        },
        {
          "output_type": "execute_result",
          "data": {
            "text/plain": [
              "([<matplotlib.axis.YTick at 0x7fd423410450>,\n",
              "  <matplotlib.axis.YTick at 0x7fd423410090>,\n",
              "  <matplotlib.axis.YTick at 0x7fd42340f0d0>,\n",
              "  <matplotlib.axis.YTick at 0x7fd4233444d0>,\n",
              "  <matplotlib.axis.YTick at 0x7fd42333d610>,\n",
              "  <matplotlib.axis.YTick at 0x7fd423332610>,\n",
              "  <matplotlib.axis.YTick at 0x7fd423344910>,\n",
              "  <matplotlib.axis.YTick at 0x7fd423344590>,\n",
              "  <matplotlib.axis.YTick at 0x7fd42334e290>,\n",
              "  <matplotlib.axis.YTick at 0x7fd42334e750>],\n",
              " [Text(0, 0, '0'),\n",
              "  Text(0, 0, '1'),\n",
              "  Text(0, 0, '2'),\n",
              "  Text(0, 0, '3'),\n",
              "  Text(0, 0, '4'),\n",
              "  Text(0, 0, '5'),\n",
              "  Text(0, 0, '6'),\n",
              "  Text(0, 0, '7'),\n",
              "  Text(0, 0, '8'),\n",
              "  Text(0, 0, '9')])"
            ]
          },
          "metadata": {},
          "execution_count": 247
        },
        {
          "output_type": "display_data",
          "data": {
            "image/png": "[encoded data removed]",
            "text/plain": [
              "<Figure size 1440x1440 with 1 Axes>"
            ]
          },
          "metadata": {
            "needs_background": "light"
          }
        }
      ]
    },
    {
      "cell_type": "markdown",
      "source": [
        "Evaluate the quantized aware model:"
      ],
      "metadata": {
        "id": "sW1J_r41LU9g"
      }
    },
    {
      "cell_type": "code",
      "source": [
        "evaluate_model(tflite_model_quant_aware_file, model_type=\"Quantized\")"
      ],
      "metadata": {
        "id": "fh4HXL-CeGZv"
      },
      "execution_count": null,
      "outputs": []
    },
    {
      "cell_type": "markdown",
      "metadata": {
        "id": "hX-yD608FwFm"
      },
      "source": [
        "# Evaluate the models on emnist\n"
      ]
    },
    {
      "cell_type": "code",
      "source": [
        "test_images_emnist,test_labels_emnist = tfds.load('emnist/byclass', split='test', as_supervised=True, batch_size=-1)\n",
        "test_images_emnist = tf.image.transpose(test_images_emnist,[0,2,1,3])\n",
        "test_images_emnist = tf.image.resize(test_images_emnist,(32,32))\n",
        "test_images_emnist = tf.reshape(test_images_emnist,[test_images_emnist.shape[0],-1])\n",
        "test_images_emnist = test_images_emnist.astype(np.float32) / 255.0\n",
        "test_images_emnist = tf.where(test_images_emnist>0.3, 1.0*tf.ones_like(test_images_emnist), tf.zeros_like(test_images_emnist))\n",
        "print(test_images_emnist.shape)"
      ],
      "metadata": {
        "colab": {
          "base_uri": "https://localhost:8080/"
        },
        "id": "5PbTFWeVPbGA",
        "outputId": "3a05ccff-d657-4422-9c6d-b14e9f1d0faf"
      },
      "execution_count": 212,
      "outputs": [
        {
          "output_type": "stream",
          "name": "stdout",
          "text": [
            "(116323, 1024)\n"
          ]
        }
      ]
    },
    {
      "cell_type": "code",
      "source": [
        "# Helper function to run inference on a TFLite model\n",
        "def run_tflite_model(tflite_file, test_image_indices):\n",
        "\n",
        "  # Initialize the interpreter\n",
        "  interpreter = tf.lite.Interpreter(model_path=str(tflite_file))\n",
        "  interpreter.allocate_tensors()\n",
        "\n",
        "  input_details = interpreter.get_input_details()[0]\n",
        "  output_details = interpreter.get_output_details()[0]\n",
        "\n",
        "  predictions = np.zeros((len(test_image_indices),), dtype=int)\n",
        "  for i, test_image_index in enumerate(test_image_indices):\n",
        "    test_image = test_images_emnist[test_image_index]\n",
        "    test_label = test_labels_emnist[test_image_index]\n",
        "    test_image = (test_image * 255 - 128).astype(np.int8).reshape((1,1024))\n",
        "    \n",
        "\n",
        "    # Check if the input type is quantized, then rescale input data to uint8\n",
        "    if input_details['dtype'] == np.uint8:\n",
        "      input_scale, input_zero_point = input_details[\"quantization\"]\n",
        "      test_image = test_image / input_scale + input_zero_point\n",
        "    \n",
        "\n",
        "    interpreter.set_tensor(input_details[\"index\"], test_image)\n",
        "    interpreter.invoke()\n",
        "    output = interpreter.get_tensor(output_details[\"index\"])[0]\n",
        "\n",
        "    predictions[i] = output.argmax()\n",
        "\n",
        "  return predictions\n",
        "\n",
        "import matplotlib.pylab as plt\n",
        "\n",
        "## Helper function to test the models on one image\n",
        "def test_model(tflite_file, test_image_index, model_type):\n",
        "  global test_labels_emnist\n",
        "\n",
        "  predictions = run_tflite_model(tflite_file, [test_image_index])\n",
        "\n",
        "  plt.imshow(test_images_emnist[test_image_index].reshape((32,32)))\n",
        "  template = model_type + \" Model \\n True:{true}, Predicted:{predict}\"\n",
        "  _ = plt.title(template.format(true= str(test_labels_emnist[test_image_index]), predict=str(predictions[0])))\n",
        "  plt.grid(False)\n",
        "\n",
        "from sklearn.metrics import confusion_matrix\n",
        "\n",
        "# Helper function to evaluate a TFLite model on all images\n",
        "def evaluate_model(tflite_file, model_type, test_length=116323):\n",
        "\n",
        "  test_image_indices = range(test_length)\n",
        "  predictions = run_tflite_model(tflite_file, test_image_indices)\n",
        "\n",
        "  accuracy = (np.sum(test_labels_emnist[:test_length]== predictions) * 100) / test_length\n",
        "\n",
        "  print('%s model accuracy is %.4f%%' % (\n",
        "      model_type, accuracy))\n",
        "  \n",
        "  return confusion_matrix(test_labels_emnist[:test_length], predictions)"
      ],
      "metadata": {
        "id": "JBVWugSMF0bv"
      },
      "execution_count": 213,
      "outputs": []
    },
    {
      "cell_type": "code",
      "source": [
        "conf_m  = evaluate_model(tflite_model_quant_file, model_type=\"Quantized\")\n",
        "# print(conf_m)\n",
        "print(conf_m.shape)\n",
        "conf_m = np.pad(conf_m, (0, 62-conf_m.shape[0]))\n",
        "scale_m = np.sum(conf_m, axis=1)[:,np.newaxis]\n",
        "conf_m = conf_m / scale_m\n",
        "print(conf_m.shape)\n",
        "\n",
        "labels = [\"0\",\"1\",\"2\",\"3\",\"4\",\"5\",\"6\",\"7\",\"8\",\"9\",\"a\",\"b\",\"c\",\"d\",\"e\",\"f\",\"g\",\"h\",\"i\",\"j\",\"k\",\"l\",\"m\",\"n\",\"o\",\"p\",\"q\",\"r\",\"s\",\"t\",\"u\",\"v\",\"w\",\"x\",\"y\",\"z\",\"A\",\"B\",\"C\",\"D\",\"E\",\"F\",\"G\",\"H\",\"I\",\"J\",\"K\",\"L\",\"M\",\"N\",\"O\",\"P\",\"Q\",\"R\",\"S\",\"T\",\"U\",\"V\",\"W\",\"X\",\"Y\",\"Z\"]\n",
        "\n",
        "plt.figure(figsize=(20,20))\n",
        "plt.imshow(conf_m)\n",
        "plt.ylabel(\"True Label\")\n",
        "plt.xlabel(\"Predicted Label\")\n",
        "plt.xticks(list(range(62)),labels)\n",
        "plt.yticks(list(range(62)),labels)"
      ],
      "metadata": {
        "colab": {
          "base_uri": "https://localhost:8080/",
          "height": 1000
        },
        "id": "Uoo1fB3FOdj1",
        "outputId": "ef71872d-ab08-425e-b1f2-77d69e739929"
      },
      "execution_count": 248,
      "outputs": [
        {
          "output_type": "stream",
          "name": "stdout",
          "text": [
            "Quantized model accuracy is 83.7092%\n",
            "(62, 62)\n",
            "(62, 62)\n"
          ]
        },
        {
          "output_type": "execute_result",
          "data": {
            "text/plain": [
              "([<matplotlib.axis.YTick at 0x7fd4234c1c90>,\n",
              "  <matplotlib.axis.YTick at 0x7fd423344090>,\n",
              "  <matplotlib.axis.YTick at 0x7fd4234101d0>,\n",
              "  <matplotlib.axis.YTick at 0x7fd4231df450>,\n",
              "  <matplotlib.axis.YTick at 0x7fd4231df990>,\n",
              "  <matplotlib.axis.YTick at 0x7fd4231dfed0>,\n",
              "  <matplotlib.axis.YTick at 0x7fd4231d8e10>,\n",
              "  <matplotlib.axis.YTick at 0x7fd42324f250>,\n",
              "  <matplotlib.axis.YTick at 0x7fd4231e71d0>,\n",
              "  <matplotlib.axis.YTick at 0x7fd4231e76d0>,\n",
              "  <matplotlib.axis.YTick at 0x7fd4231e7bd0>,\n",
              "  <matplotlib.axis.YTick at 0x7fd4231f0090>,\n",
              "  <matplotlib.axis.YTick at 0x7fd4231f0690>,\n",
              "  <matplotlib.axis.YTick at 0x7fd4231f0bd0>,\n",
              "  <matplotlib.axis.YTick at 0x7fd4231fa090>,\n",
              "  <matplotlib.axis.YTick at 0x7fd4231f0610>,\n",
              "  <matplotlib.axis.YTick at 0x7fd4231e7410>,\n",
              "  <matplotlib.axis.YTick at 0x7fd4231e7e10>,\n",
              "  <matplotlib.axis.YTick at 0x7fd4231fa910>,\n",
              "  <matplotlib.axis.YTick at 0x7fd4231fae10>,\n",
              "  <matplotlib.axis.YTick at 0x7fd423201390>,\n",
              "  <matplotlib.axis.YTick at 0x7fd4232018d0>,\n",
              "  <matplotlib.axis.YTick at 0x7fd423201e10>,\n",
              "  <matplotlib.axis.YTick at 0x7fd423209390>,\n",
              "  <matplotlib.axis.YTick at 0x7fd4232098d0>,\n",
              "  <matplotlib.axis.YTick at 0x7fd423209e10>,\n",
              "  <matplotlib.axis.YTick at 0x7fd423209b90>,\n",
              "  <matplotlib.axis.YTick at 0x7fd423201d50>,\n",
              "  <matplotlib.axis.YTick at 0x7fd4231fa810>,\n",
              "  <matplotlib.axis.YTick at 0x7fd4232125d0>,\n",
              "  <matplotlib.axis.YTick at 0x7fd423212b10>,\n",
              "  <matplotlib.axis.YTick at 0x7fd423212d50>,\n",
              "  <matplotlib.axis.YTick at 0x7fd42319a5d0>,\n",
              "  <matplotlib.axis.YTick at 0x7fd42319ab10>,\n",
              "  <matplotlib.axis.YTick at 0x7fd42319ad50>,\n",
              "  <matplotlib.axis.YTick at 0x7fd42319a690>,\n",
              "  <matplotlib.axis.YTick at 0x7fd423212510>,\n",
              "  <matplotlib.axis.YTick at 0x7fd423209d90>,\n",
              "  <matplotlib.axis.YTick at 0x7fd42324f7d0>,\n",
              "  <matplotlib.axis.YTick at 0x7fd42328c850>,\n",
              "  <matplotlib.axis.YTick at 0x7fd4231a3450>,\n",
              "  <matplotlib.axis.YTick at 0x7fd4231a3a50>,\n",
              "  <matplotlib.axis.YTick at 0x7fd4231a3910>,\n",
              "  <matplotlib.axis.YTick at 0x7fd4231af510>,\n",
              "  <matplotlib.axis.YTick at 0x7fd4231afa50>,\n",
              "  <matplotlib.axis.YTick at 0x7fd4231af910>,\n",
              "  <matplotlib.axis.YTick at 0x7fd4231af290>,\n",
              "  <matplotlib.axis.YTick at 0x7fd4231a3590>,\n",
              "  <matplotlib.axis.YTick at 0x7fd423212a50>,\n",
              "  <matplotlib.axis.YTick at 0x7fd4231b75d0>,\n",
              "  <matplotlib.axis.YTick at 0x7fd4231b7b10>,\n",
              "  <matplotlib.axis.YTick at 0x7fd4231b7d50>,\n",
              "  <matplotlib.axis.YTick at 0x7fd4231bf5d0>,\n",
              "  <matplotlib.axis.YTick at 0x7fd4231bfb10>,\n",
              "  <matplotlib.axis.YTick at 0x7fd4231bfd50>,\n",
              "  <matplotlib.axis.YTick at 0x7fd4231c75d0>,\n",
              "  <matplotlib.axis.YTick at 0x7fd4231bff90>,\n",
              "  <matplotlib.axis.YTick at 0x7fd423212b90>,\n",
              "  <matplotlib.axis.YTick at 0x7fd4231c7150>,\n",
              "  <matplotlib.axis.YTick at 0x7fd4231c7c50>,\n",
              "  <matplotlib.axis.YTick at 0x7fd4231d1210>,\n",
              "  <matplotlib.axis.YTick at 0x7fd4231d1710>],\n",
              " [Text(0, 0, '0'),\n",
              "  Text(0, 0, '1'),\n",
              "  Text(0, 0, '2'),\n",
              "  Text(0, 0, '3'),\n",
              "  Text(0, 0, '4'),\n",
              "  Text(0, 0, '5'),\n",
              "  Text(0, 0, '6'),\n",
              "  Text(0, 0, '7'),\n",
              "  Text(0, 0, '8'),\n",
              "  Text(0, 0, '9'),\n",
              "  Text(0, 0, 'a'),\n",
              "  Text(0, 0, 'b'),\n",
              "  Text(0, 0, 'c'),\n",
              "  Text(0, 0, 'd'),\n",
              "  Text(0, 0, 'e'),\n",
              "  Text(0, 0, 'f'),\n",
              "  Text(0, 0, 'g'),\n",
              "  Text(0, 0, 'h'),\n",
              "  Text(0, 0, 'i'),\n",
              "  Text(0, 0, 'j'),\n",
              "  Text(0, 0, 'k'),\n",
              "  Text(0, 0, 'l'),\n",
              "  Text(0, 0, 'm'),\n",
              "  Text(0, 0, 'n'),\n",
              "  Text(0, 0, 'o'),\n",
              "  Text(0, 0, 'p'),\n",
              "  Text(0, 0, 'q'),\n",
              "  Text(0, 0, 'r'),\n",
              "  Text(0, 0, 's'),\n",
              "  Text(0, 0, 't'),\n",
              "  Text(0, 0, 'u'),\n",
              "  Text(0, 0, 'v'),\n",
              "  Text(0, 0, 'w'),\n",
              "  Text(0, 0, 'x'),\n",
              "  Text(0, 0, 'y'),\n",
              "  Text(0, 0, 'z'),\n",
              "  Text(0, 0, 'A'),\n",
              "  Text(0, 0, 'B'),\n",
              "  Text(0, 0, 'C'),\n",
              "  Text(0, 0, 'D'),\n",
              "  Text(0, 0, 'E'),\n",
              "  Text(0, 0, 'F'),\n",
              "  Text(0, 0, 'G'),\n",
              "  Text(0, 0, 'H'),\n",
              "  Text(0, 0, 'I'),\n",
              "  Text(0, 0, 'J'),\n",
              "  Text(0, 0, 'K'),\n",
              "  Text(0, 0, 'L'),\n",
              "  Text(0, 0, 'M'),\n",
              "  Text(0, 0, 'N'),\n",
              "  Text(0, 0, 'O'),\n",
              "  Text(0, 0, 'P'),\n",
              "  Text(0, 0, 'Q'),\n",
              "  Text(0, 0, 'R'),\n",
              "  Text(0, 0, 'S'),\n",
              "  Text(0, 0, 'T'),\n",
              "  Text(0, 0, 'U'),\n",
              "  Text(0, 0, 'V'),\n",
              "  Text(0, 0, 'W'),\n",
              "  Text(0, 0, 'X'),\n",
              "  Text(0, 0, 'Y'),\n",
              "  Text(0, 0, 'Z')])"
            ]
          },
          "metadata": {},
          "execution_count": 248
        },
        {
          "output_type": "display_data",
          "data": {
            "image/png": "[encoded data removed]",
            "text/plain": [
              "<Figure size 1440x1440 with 1 Axes>"
            ]
          },
          "metadata": {
            "needs_background": "light"
          }
        }
      ]
    }
  ]
}